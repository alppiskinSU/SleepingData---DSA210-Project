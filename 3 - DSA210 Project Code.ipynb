{
 "cells": [
  {
   "cell_type": "markdown",
   "id": "9cd8ac2c",
   "metadata": {},
   "source": [
    "# DSA210 Project: Sleep Data Analysis\n",
    "\n",
    "This notebook presents the complete analysis pipeline for the DSA210 project, following the provided project guidelines: motivation, data loading, exploratory data analysis, statistical tests, machine learning models, findings, and future work."
   ]
  },
  {
   "cell_type": "markdown",
   "id": "7440c5b7",
   "metadata": {},
   "source": [
    "## Motivation\n",
    "\n",
    "- Sleep is essential for cognitive performance and academic success.\n",
    "- Analyzing personal sleep data in relation to study habits can reveal insights for optimizing study routines."
   ]
  },
  {
   "cell_type": "markdown",
   "id": "8e04c929",
   "metadata": {},
   "source": [
    "## Data Source\n",
    "\n",
    "The data is loaded from `2 - Sleep_Study_Data.xlsx`, which contains daily records of sleep duration, sleep quality, study duration, and study quality. Ensure this file is in the same directory as this notebook."
   ]
  },
  {
   "cell_type": "markdown",
   "id": "0f9ebe39",
   "metadata": {},
   "source": [
    "## Setup\n",
    "\n",
    "Import required libraries and load the data."
   ]
  },
  {
   "cell_type": "code",
   "execution_count": null,
   "id": "0ba3bd77",
   "metadata": {},
   "outputs": [],
   "source": [
    "import pandas as pd\n",
    "import matplotlib.pyplot as plt\n",
    "import seaborn as sns\n",
    "from scipy.stats import pearsonr\n",
    "from sklearn.linear_model import LinearRegression\n",
    "from sklearn.metrics import mean_absolute_error, r2_score\n",
    "\n",
    "# Load data\n",
    "file_path = '2 - Sleep_Study_Data.xlsx'\n",
    "data = pd.read_excel(file_path)\n",
    "\n",
    "# Rename columns for convenience\n",
    "data = data.rename(columns={\n",
    "    'Sleep Time - (Calculation)': 'SleepHours',\n",
    "    'Sleep Quality - (1-10)': 'SleepQuality',\n",
    "    'Study Duration - (Calculation)': 'StudyHours',\n",
    "    'Study Quality - (1-10)': 'StudyQuality'\n",
    "})\n",
    "\n",
    "# Convert Date column to datetime\n",
    "data['Date'] = pd.to_datetime(data['Date'])"
   ]
  },
  {
   "cell_type": "markdown",
   "id": "48cb853a",
   "metadata": {},
   "source": [
    "## Data Preprocessing\n",
    "\n",
    "Handle missing values by filling with the column mean."
   ]
  },
  {
   "cell_type": "code",
   "execution_count": null,
   "id": "1ee8ab4e",
   "metadata": {},
   "outputs": [],
   "source": [
    "# Fill missing values\n",
    "num_cols = ['SleepHours', 'SleepQuality', 'StudyHours', 'StudyQuality']\n",
    "filled = data.copy()\n",
    "filled[num_cols] = filled[num_cols].fillna(filled[num_cols].mean())\n",
    "filled.head()"
   ]
  },
  {
   "cell_type": "markdown",
   "id": "42d5ceff",
   "metadata": {},
   "source": [
    "## Exploratory Data Analysis\n",
    "\n",
    "### Correlation Matrix"
   ]
  },
  {
   "cell_type": "code",
   "execution_count": null,
   "id": "5726fe14",
   "metadata": {},
   "outputs": [],
   "source": [
    "plt.figure(figsize=(8,6))\n",
    "sns.heatmap(filled[num_cols].corr(), annot=True, cmap='coolwarm')\n",
    "plt.title('Correlation Matrix')\n",
    "plt.tight_layout()\n",
    "plt.show()"
   ]
  },
  {
   "cell_type": "markdown",
   "id": "7ef556ee",
   "metadata": {},
   "source": [
    "### Sleep Quality vs Study Quality"
   ]
  },
  {
   "cell_type": "code",
   "execution_count": null,
   "id": "58f5df51",
   "metadata": {},
   "outputs": [],
   "source": [
    "plt.figure(figsize=(6,6))\n",
    "sns.scatterplot(x='SleepQuality', y='StudyQuality', data=filled)\n",
    "plt.title('Sleep Quality vs Study Quality')\n",
    "plt.xlabel('Sleep Quality (1-10)')\n",
    "plt.ylabel('Study Quality (1-10)')\n",
    "plt.tight_layout()\n",
    "plt.show()"
   ]
  },
  {
   "cell_type": "markdown",
   "id": "11d1c2a1",
   "metadata": {},
   "source": [
    "### Sleep Quality vs Study Hours (Box Plot)"
   ]
  },
  {
   "cell_type": "code",
   "execution_count": null,
   "id": "8ccd7bcd",
   "metadata": {},
   "outputs": [],
   "source": [
    "plt.figure(figsize=(6,6))\n",
    "sns.boxplot(x=filled['SleepQuality'].round().astype(int), y='StudyHours', data=filled)\n",
    "plt.title('Sleep Quality vs Study Hours')\n",
    "plt.xlabel('Sleep Quality (1-10)')\n",
    "plt.ylabel('Study Hours')\n",
    "plt.tight_layout()\n",
    "plt.show()"
   ]
  },
  {
   "cell_type": "markdown",
   "id": "0a55e15c",
   "metadata": {},
   "source": [
    "### Distribution of Sleep and Study Duration"
   ]
  },
  {
   "cell_type": "code",
   "execution_count": null,
   "id": "cc29531e",
   "metadata": {},
   "outputs": [],
   "source": [
    "plt.figure(figsize=(6,6))\n",
    "sns.histplot(filled['SleepHours'], bins=10, kde=True)\n",
    "plt.title('Distribution of Sleep Hours')\n",
    "plt.xlabel('Sleep Duration (Hours)')\n",
    "plt.ylabel('Frequency')\n",
    "plt.tight_layout()\n",
    "plt.show()\n",
    "\n",
    "plt.figure(figsize=(6,6))\n",
    "sns.histplot(filled['StudyHours'], bins=10, kde=True)\n",
    "plt.title('Distribution of Study Hours')\n",
    "plt.xlabel('Study Duration (Hours)')\n",
    "plt.ylabel('Frequency')\n",
    "plt.tight_layout()\n",
    "plt.show()"
   ]
  },
  {
   "cell_type": "markdown",
   "id": "aedbffa6",
   "metadata": {},
   "source": [
    "### Sleep and Study Over Time"
   ]
  },
  {
   "cell_type": "code",
   "execution_count": null,
   "id": "b262d6a7",
   "metadata": {},
   "outputs": [],
   "source": [
    "ts = data.set_index('Date')[['SleepHours','StudyHours']].sort_index()\n",
    "full_idx = pd.date_range(ts.index.min(), ts.index.max(), freq='D')\n",
    "ts_full = ts.reindex(full_idx)\n",
    "\n",
    "plt.figure(figsize=(10,5))\n",
    "plt.plot(ts_full.index, ts_full['SleepHours'], marker='o', label='Sleep Hours')\n",
    "plt.plot(ts_full.index, ts_full['StudyHours'], marker='s', label='Study Hours')\n",
    "plt.title('Sleep and Study Hours Over Time')\n",
    "plt.xlabel('Date')\n",
    "plt.ylabel('Hours')\n",
    "plt.legend()\n",
    "plt.xticks(rotation=45)\n",
    "plt.tight_layout()\n",
    "plt.show()"
   ]
  },
  {
   "cell_type": "markdown",
   "id": "f618f184",
   "metadata": {},
   "source": [
    "### Feature Engineering: Sleep Efficiency & Study Productivity"
   ]
  },
  {
   "cell_type": "code",
   "execution_count": null,
   "id": "73ce354c",
   "metadata": {},
   "outputs": [],
   "source": [
    "# Create new features\n",
    "filled['SleepEfficiency'] = filled['SleepQuality'] / filled['SleepHours']\n",
    "filled['StudyProductivity'] = filled['StudyQuality'] / filled['StudyHours']\n",
    "\n",
    "# Display the first few rows of the new features\n",
    "filled[['SleepEfficiency', 'StudyProductivity']].head()"
   ]
  },
  {
   "cell_type": "markdown",
   "id": "0db63341",
   "metadata": {},
   "source": [
    "### Exploring New Features: Scatterplots"
   ]
  },
  {
   "cell_type": "code",
   "execution_count": null,
   "id": "e059f7d7",
   "metadata": {},
   "outputs": [],
   "source": [
    "plt.figure(figsize=(6,6))\n",
    "sns.scatterplot(x='SleepEfficiency', y='StudyQuality', data=filled)\n",
    "plt.title('Sleep Efficiency vs Study Quality')\n",
    "plt.xlabel('Sleep Efficiency (Quality / Hours)')\n",
    "plt.ylabel('Study Quality (1-10)')\n",
    "plt.tight_layout()\n",
    "plt.show()"
   ]
  },
  {
   "cell_type": "code",
   "execution_count": null,
   "id": "5ee2cd19",
   "metadata": {},
   "outputs": [],
   "source": [
    "plt.figure(figsize=(6,6))\n",
    "sns.scatterplot(x='StudyProductivity', y='SleepQuality', data=filled)\n",
    "plt.title('Study Productivity vs Sleep Quality')\n",
    "plt.xlabel('Study Productivity (Quality / Hours)')\n",
    "plt.ylabel('Sleep Quality (1-10)')\n",
    "plt.tight_layout()\n",
    "plt.show()"
   ]
  },
  {
   "cell_type": "markdown",
   "id": "e87de8e1",
   "metadata": {},
   "source": [
    "## Statistical Analysis\n",
    "\n",
    "### Pearson Correlation Test between Sleep Duration and Study Duration"
   ]
  },
  {
   "cell_type": "code",
   "execution_count": null,
   "id": "95625ebc",
   "metadata": {},
   "outputs": [],
   "source": [
    "corr, p_value = pearsonr(filled['SleepHours'], filled['StudyHours'])\n",
    "print(f\"Correlation: {corr:.3f}\")\n",
    "print(f\"P-value: {p_value:.3f}\")"
   ]
  },
  {
   "cell_type": "markdown",
   "id": "eebae4cc",
   "metadata": {},
   "source": [
    "## Machine Learning Models\n",
    "\n",
    "### Model 1: Predict Study Quality from Sleep Quality"
   ]
  },
  {
   "cell_type": "code",
   "execution_count": null,
   "id": "68ff4341",
   "metadata": {},
   "outputs": [],
   "source": [
    "X1 = filled[['SleepQuality']]\n",
    "y = filled['StudyQuality']\n",
    "model1 = LinearRegression()\n",
    "model1.fit(X1, y)\n",
    "y_pred1 = model1.predict(X1)\n",
    "r2_1 = r2_score(y, y_pred1)\n",
    "mae_1 = mean_absolute_error(y, y_pred1)\n",
    "print(f\"Model 1 - R²: {r2_1:.3f}, MAE: {mae_1:.3f}\")\n",
    "\n",
    "plt.figure(figsize=(6,6))\n",
    "sns.regplot(x='SleepQuality', y='StudyQuality', data=filled, scatter_kws={'s':50}, line_kws={'color':'red'})\n",
    "plt.title('Sleep Quality vs Study Quality Regression')\n",
    "plt.xlabel('Sleep Quality (1-10)')\n",
    "plt.ylabel('Study Quality (1-10)')\n",
    "plt.tight_layout()\n",
    "plt.show()"
   ]
  },
  {
   "cell_type": "markdown",
   "id": "96c10ca0",
   "metadata": {},
   "source": [
    "### Model 2: Predict Study Quality from Sleep Duration"
   ]
  },
  {
   "cell_type": "code",
   "execution_count": null,
   "id": "9f7259ae",
   "metadata": {},
   "outputs": [],
   "source": [
    "X2 = filled[['SleepHours']]\n",
    "model2 = LinearRegression()\n",
    "model2.fit(X2, y)\n",
    "y_pred2 = model2.predict(X2)\n",
    "r2_2 = r2_score(y, y_pred2)\n",
    "mae_2 = mean_absolute_error(y, y_pred2)\n",
    "print(f\"Model 2 - R²: {r2_2:.3f}, MAE: {mae_2:.3f}\")\n",
    "\n",
    "plt.figure(figsize=(6,6))\n",
    "sns.regplot(x='SleepHours', y='StudyQuality', data=filled, scatter_kws={'s':50}, line_kws={'color':'red'})\n",
    "plt.title('Sleep Duration vs Study Quality Regression')\n",
    "plt.xlabel('Sleep Duration (Hours)')\n",
    "plt.ylabel('Study Quality (1-10)')\n",
    "plt.tight_layout()\n",
    "plt.show()"
   ]
  },
  {
   "cell_type": "markdown",
   "id": "65065d7a",
   "metadata": {},
   "source": [
    "### Model 3: Predict Study Quality using Sleep Efficiency"
   ]
  },
  {
   "cell_type": "code",
   "execution_count": null,
   "id": "d73b901e",
   "metadata": {},
   "outputs": [],
   "source": [
    "X3 = filled[['SleepEfficiency']]\n",
    "y3 = filled['StudyQuality']\n",
    "\n",
    "model3 = LinearRegression()\n",
    "model3.fit(X3, y3)\n",
    "\n",
    "y_pred3 = model3.predict(X3)\n",
    "print(f\"Model 3 - R²: {r2_score(y3, y_pred3):.3f}, MAE: {mean_absolute_error(y3, y_pred3):.3f}\")\n",
    "\n",
    "plt.figure(figsize=(6,6))\n",
    "sns.regplot(x='SleepEfficiency', y='StudyQuality', data=filled, scatter_kws={'s':50}, line_kws={'color':'red'})\n",
    "plt.title('Regression: Sleep Efficiency vs Study Quality')\n",
    "plt.xlabel('Sleep Efficiency')\n",
    "plt.ylabel('Study Quality (1-10)')\n",
    "plt.tight_layout()\n",
    "plt.show()"
   ]
  },
  {
   "cell_type": "markdown",
   "id": "0cece03f",
   "metadata": {},
   "source": [
    "## Findings\n",
    "\n",
    "- Sleep duration and study duration show a correlation. Replace the above values after running the cells.\n",
    "- Sleep quality vs study quality reveals the strength and direction of the relationship.\n",
    "- Regression models provide R² and MAE metrics for predictive power.\n"
   ]
  },
  {
   "cell_type": "markdown",
   "id": "c5a2204c",
   "metadata": {},
   "source": [
    "## Limitations and Future Work\n",
    "\n",
    "- Data from a single participant limits generalizability.\n",
    "- Additional factors (e.g., stress, nutrition) could improve models.\n",
    "- Future work: collect multi-participant data, explore advanced machine learning techniques."
   ]
  }
 ],
 "metadata": {},
 "nbformat": 4,
 "nbformat_minor": 5
}
